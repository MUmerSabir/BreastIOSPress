{
  "cells": [
    {
      "cell_type": "code",
      "execution_count": 2,
      "metadata": {
        "id": "0Ko2ZrWsTuS8"
      },
      "outputs": [],
      "source": [
        "\n",
        "import pandas as pd\n",
        "import seaborn as sns\n",
        "import numpy as np\n",
        "import matplotlib\n",
        "import matplotlib.pyplot as plt\n",
        "\n",
        "%matplotlib inline"
      ]
    },
    {
      "cell_type": "code",
      "execution_count": 3,
      "metadata": {
        "id": "vO7a1MGNTuS9"
      },
      "outputs": [],
      "source": [
        "#Reading breast cancer dataset\n",
        "data = pd.read_csv('data.csv')"
      ]
    },
    {
      "cell_type": "code",
      "source": [
        "#Reading breast cancer dataset first ten rows\n",
        "data.head(10)"
      ],
      "metadata": {
        "colab": {
          "base_uri": "https://localhost:8080/",
          "height": 430
        },
        "id": "UegQiqMRUOKT",
        "outputId": "54bdd4b2-884b-4b9d-db26-db02862754d7"
      },
      "execution_count": 4,
      "outputs": [
        {
          "output_type": "execute_result",
          "data": {
            "text/plain": [
              "         id diagnosis  radius_mean  texture_mean  perimeter_mean  area_mean  \\\n",
              "0    842302         M        17.99         10.38          122.80     1001.0   \n",
              "1    842517         M        20.57         17.77          132.90     1326.0   \n",
              "2  84300903         M        19.69         21.25          130.00     1203.0   \n",
              "3  84348301         M        11.42         20.38           77.58      386.1   \n",
              "4  84358402         M        20.29         14.34          135.10     1297.0   \n",
              "5    843786         M        12.45         15.70           82.57      477.1   \n",
              "6    844359         M        18.25         19.98          119.60     1040.0   \n",
              "7  84458202         M        13.71         20.83           90.20      577.9   \n",
              "8    844981         M        13.00         21.82           87.50      519.8   \n",
              "9  84501001         M        12.46         24.04           83.97      475.9   \n",
              "\n",
              "   smoothness_mean  compactness_mean  concavity_mean  concave points_mean  \\\n",
              "0          0.11840           0.27760         0.30010              0.14710   \n",
              "1          0.08474           0.07864         0.08690              0.07017   \n",
              "2          0.10960           0.15990         0.19740              0.12790   \n",
              "3          0.14250           0.28390         0.24140              0.10520   \n",
              "4          0.10030           0.13280         0.19800              0.10430   \n",
              "5          0.12780           0.17000         0.15780              0.08089   \n",
              "6          0.09463           0.10900         0.11270              0.07400   \n",
              "7          0.11890           0.16450         0.09366              0.05985   \n",
              "8          0.12730           0.19320         0.18590              0.09353   \n",
              "9          0.11860           0.23960         0.22730              0.08543   \n",
              "\n",
              "   ...  texture_worst  perimeter_worst  area_worst  smoothness_worst  \\\n",
              "0  ...          17.33           184.60      2019.0            0.1622   \n",
              "1  ...          23.41           158.80      1956.0            0.1238   \n",
              "2  ...          25.53           152.50      1709.0            0.1444   \n",
              "3  ...          26.50            98.87       567.7            0.2098   \n",
              "4  ...          16.67           152.20      1575.0            0.1374   \n",
              "5  ...          23.75           103.40       741.6            0.1791   \n",
              "6  ...          27.66           153.20      1606.0            0.1442   \n",
              "7  ...          28.14           110.60       897.0            0.1654   \n",
              "8  ...          30.73           106.20       739.3            0.1703   \n",
              "9  ...          40.68            97.65       711.4            0.1853   \n",
              "\n",
              "   compactness_worst  concavity_worst  concave points_worst  symmetry_worst  \\\n",
              "0             0.6656           0.7119                0.2654          0.4601   \n",
              "1             0.1866           0.2416                0.1860          0.2750   \n",
              "2             0.4245           0.4504                0.2430          0.3613   \n",
              "3             0.8663           0.6869                0.2575          0.6638   \n",
              "4             0.2050           0.4000                0.1625          0.2364   \n",
              "5             0.5249           0.5355                0.1741          0.3985   \n",
              "6             0.2576           0.3784                0.1932          0.3063   \n",
              "7             0.3682           0.2678                0.1556          0.3196   \n",
              "8             0.5401           0.5390                0.2060          0.4378   \n",
              "9             1.0580           1.1050                0.2210          0.4366   \n",
              "\n",
              "   fractal_dimension_worst  Unnamed: 32  \n",
              "0                  0.11890          NaN  \n",
              "1                  0.08902          NaN  \n",
              "2                  0.08758          NaN  \n",
              "3                  0.17300          NaN  \n",
              "4                  0.07678          NaN  \n",
              "5                  0.12440          NaN  \n",
              "6                  0.08368          NaN  \n",
              "7                  0.11510          NaN  \n",
              "8                  0.10720          NaN  \n",
              "9                  0.20750          NaN  \n",
              "\n",
              "[10 rows x 33 columns]"
            ],
            "text/html": [
              "\n",
              "  <div id=\"df-54ee001a-1988-4132-bb03-b71e057aa9b1\" class=\"colab-df-container\">\n",
              "    <div>\n",
              "<style scoped>\n",
              "    .dataframe tbody tr th:only-of-type {\n",
              "        vertical-align: middle;\n",
              "    }\n",
              "\n",
              "    .dataframe tbody tr th {\n",
              "        vertical-align: top;\n",
              "    }\n",
              "\n",
              "    .dataframe thead th {\n",
              "        text-align: right;\n",
              "    }\n",
              "</style>\n",
              "<table border=\"1\" class=\"dataframe\">\n",
              "  <thead>\n",
              "    <tr style=\"text-align: right;\">\n",
              "      <th></th>\n",
              "      <th>id</th>\n",
              "      <th>diagnosis</th>\n",
              "      <th>radius_mean</th>\n",
              "      <th>texture_mean</th>\n",
              "      <th>perimeter_mean</th>\n",
              "      <th>area_mean</th>\n",
              "      <th>smoothness_mean</th>\n",
              "      <th>compactness_mean</th>\n",
              "      <th>concavity_mean</th>\n",
              "      <th>concave points_mean</th>\n",
              "      <th>...</th>\n",
              "      <th>texture_worst</th>\n",
              "      <th>perimeter_worst</th>\n",
              "      <th>area_worst</th>\n",
              "      <th>smoothness_worst</th>\n",
              "      <th>compactness_worst</th>\n",
              "      <th>concavity_worst</th>\n",
              "      <th>concave points_worst</th>\n",
              "      <th>symmetry_worst</th>\n",
              "      <th>fractal_dimension_worst</th>\n",
              "      <th>Unnamed: 32</th>\n",
              "    </tr>\n",
              "  </thead>\n",
              "  <tbody>\n",
              "    <tr>\n",
              "      <th>0</th>\n",
              "      <td>842302</td>\n",
              "      <td>M</td>\n",
              "      <td>17.99</td>\n",
              "      <td>10.38</td>\n",
              "      <td>122.80</td>\n",
              "      <td>1001.0</td>\n",
              "      <td>0.11840</td>\n",
              "      <td>0.27760</td>\n",
              "      <td>0.30010</td>\n",
              "      <td>0.14710</td>\n",
              "      <td>...</td>\n",
              "      <td>17.33</td>\n",
              "      <td>184.60</td>\n",
              "      <td>2019.0</td>\n",
              "      <td>0.1622</td>\n",
              "      <td>0.6656</td>\n",
              "      <td>0.7119</td>\n",
              "      <td>0.2654</td>\n",
              "      <td>0.4601</td>\n",
              "      <td>0.11890</td>\n",
              "      <td>NaN</td>\n",
              "    </tr>\n",
              "    <tr>\n",
              "      <th>1</th>\n",
              "      <td>842517</td>\n",
              "      <td>M</td>\n",
              "      <td>20.57</td>\n",
              "      <td>17.77</td>\n",
              "      <td>132.90</td>\n",
              "      <td>1326.0</td>\n",
              "      <td>0.08474</td>\n",
              "      <td>0.07864</td>\n",
              "      <td>0.08690</td>\n",
              "      <td>0.07017</td>\n",
              "      <td>...</td>\n",
              "      <td>23.41</td>\n",
              "      <td>158.80</td>\n",
              "      <td>1956.0</td>\n",
              "      <td>0.1238</td>\n",
              "      <td>0.1866</td>\n",
              "      <td>0.2416</td>\n",
              "      <td>0.1860</td>\n",
              "      <td>0.2750</td>\n",
              "      <td>0.08902</td>\n",
              "      <td>NaN</td>\n",
              "    </tr>\n",
              "    <tr>\n",
              "      <th>2</th>\n",
              "      <td>84300903</td>\n",
              "      <td>M</td>\n",
              "      <td>19.69</td>\n",
              "      <td>21.25</td>\n",
              "      <td>130.00</td>\n",
              "      <td>1203.0</td>\n",
              "      <td>0.10960</td>\n",
              "      <td>0.15990</td>\n",
              "      <td>0.19740</td>\n",
              "      <td>0.12790</td>\n",
              "      <td>...</td>\n",
              "      <td>25.53</td>\n",
              "      <td>152.50</td>\n",
              "      <td>1709.0</td>\n",
              "      <td>0.1444</td>\n",
              "      <td>0.4245</td>\n",
              "      <td>0.4504</td>\n",
              "      <td>0.2430</td>\n",
              "      <td>0.3613</td>\n",
              "      <td>0.08758</td>\n",
              "      <td>NaN</td>\n",
              "    </tr>\n",
              "    <tr>\n",
              "      <th>3</th>\n",
              "      <td>84348301</td>\n",
              "      <td>M</td>\n",
              "      <td>11.42</td>\n",
              "      <td>20.38</td>\n",
              "      <td>77.58</td>\n",
              "      <td>386.1</td>\n",
              "      <td>0.14250</td>\n",
              "      <td>0.28390</td>\n",
              "      <td>0.24140</td>\n",
              "      <td>0.10520</td>\n",
              "      <td>...</td>\n",
              "      <td>26.50</td>\n",
              "      <td>98.87</td>\n",
              "      <td>567.7</td>\n",
              "      <td>0.2098</td>\n",
              "      <td>0.8663</td>\n",
              "      <td>0.6869</td>\n",
              "      <td>0.2575</td>\n",
              "      <td>0.6638</td>\n",
              "      <td>0.17300</td>\n",
              "      <td>NaN</td>\n",
              "    </tr>\n",
              "    <tr>\n",
              "      <th>4</th>\n",
              "      <td>84358402</td>\n",
              "      <td>M</td>\n",
              "      <td>20.29</td>\n",
              "      <td>14.34</td>\n",
              "      <td>135.10</td>\n",
              "      <td>1297.0</td>\n",
              "      <td>0.10030</td>\n",
              "      <td>0.13280</td>\n",
              "      <td>0.19800</td>\n",
              "      <td>0.10430</td>\n",
              "      <td>...</td>\n",
              "      <td>16.67</td>\n",
              "      <td>152.20</td>\n",
              "      <td>1575.0</td>\n",
              "      <td>0.1374</td>\n",
              "      <td>0.2050</td>\n",
              "      <td>0.4000</td>\n",
              "      <td>0.1625</td>\n",
              "      <td>0.2364</td>\n",
              "      <td>0.07678</td>\n",
              "      <td>NaN</td>\n",
              "    </tr>\n",
              "    <tr>\n",
              "      <th>5</th>\n",
              "      <td>843786</td>\n",
              "      <td>M</td>\n",
              "      <td>12.45</td>\n",
              "      <td>15.70</td>\n",
              "      <td>82.57</td>\n",
              "      <td>477.1</td>\n",
              "      <td>0.12780</td>\n",
              "      <td>0.17000</td>\n",
              "      <td>0.15780</td>\n",
              "      <td>0.08089</td>\n",
              "      <td>...</td>\n",
              "      <td>23.75</td>\n",
              "      <td>103.40</td>\n",
              "      <td>741.6</td>\n",
              "      <td>0.1791</td>\n",
              "      <td>0.5249</td>\n",
              "      <td>0.5355</td>\n",
              "      <td>0.1741</td>\n",
              "      <td>0.3985</td>\n",
              "      <td>0.12440</td>\n",
              "      <td>NaN</td>\n",
              "    </tr>\n",
              "    <tr>\n",
              "      <th>6</th>\n",
              "      <td>844359</td>\n",
              "      <td>M</td>\n",
              "      <td>18.25</td>\n",
              "      <td>19.98</td>\n",
              "      <td>119.60</td>\n",
              "      <td>1040.0</td>\n",
              "      <td>0.09463</td>\n",
              "      <td>0.10900</td>\n",
              "      <td>0.11270</td>\n",
              "      <td>0.07400</td>\n",
              "      <td>...</td>\n",
              "      <td>27.66</td>\n",
              "      <td>153.20</td>\n",
              "      <td>1606.0</td>\n",
              "      <td>0.1442</td>\n",
              "      <td>0.2576</td>\n",
              "      <td>0.3784</td>\n",
              "      <td>0.1932</td>\n",
              "      <td>0.3063</td>\n",
              "      <td>0.08368</td>\n",
              "      <td>NaN</td>\n",
              "    </tr>\n",
              "    <tr>\n",
              "      <th>7</th>\n",
              "      <td>84458202</td>\n",
              "      <td>M</td>\n",
              "      <td>13.71</td>\n",
              "      <td>20.83</td>\n",
              "      <td>90.20</td>\n",
              "      <td>577.9</td>\n",
              "      <td>0.11890</td>\n",
              "      <td>0.16450</td>\n",
              "      <td>0.09366</td>\n",
              "      <td>0.05985</td>\n",
              "      <td>...</td>\n",
              "      <td>28.14</td>\n",
              "      <td>110.60</td>\n",
              "      <td>897.0</td>\n",
              "      <td>0.1654</td>\n",
              "      <td>0.3682</td>\n",
              "      <td>0.2678</td>\n",
              "      <td>0.1556</td>\n",
              "      <td>0.3196</td>\n",
              "      <td>0.11510</td>\n",
              "      <td>NaN</td>\n",
              "    </tr>\n",
              "    <tr>\n",
              "      <th>8</th>\n",
              "      <td>844981</td>\n",
              "      <td>M</td>\n",
              "      <td>13.00</td>\n",
              "      <td>21.82</td>\n",
              "      <td>87.50</td>\n",
              "      <td>519.8</td>\n",
              "      <td>0.12730</td>\n",
              "      <td>0.19320</td>\n",
              "      <td>0.18590</td>\n",
              "      <td>0.09353</td>\n",
              "      <td>...</td>\n",
              "      <td>30.73</td>\n",
              "      <td>106.20</td>\n",
              "      <td>739.3</td>\n",
              "      <td>0.1703</td>\n",
              "      <td>0.5401</td>\n",
              "      <td>0.5390</td>\n",
              "      <td>0.2060</td>\n",
              "      <td>0.4378</td>\n",
              "      <td>0.10720</td>\n",
              "      <td>NaN</td>\n",
              "    </tr>\n",
              "    <tr>\n",
              "      <th>9</th>\n",
              "      <td>84501001</td>\n",
              "      <td>M</td>\n",
              "      <td>12.46</td>\n",
              "      <td>24.04</td>\n",
              "      <td>83.97</td>\n",
              "      <td>475.9</td>\n",
              "      <td>0.11860</td>\n",
              "      <td>0.23960</td>\n",
              "      <td>0.22730</td>\n",
              "      <td>0.08543</td>\n",
              "      <td>...</td>\n",
              "      <td>40.68</td>\n",
              "      <td>97.65</td>\n",
              "      <td>711.4</td>\n",
              "      <td>0.1853</td>\n",
              "      <td>1.0580</td>\n",
              "      <td>1.1050</td>\n",
              "      <td>0.2210</td>\n",
              "      <td>0.4366</td>\n",
              "      <td>0.20750</td>\n",
              "      <td>NaN</td>\n",
              "    </tr>\n",
              "  </tbody>\n",
              "</table>\n",
              "<p>10 rows × 33 columns</p>\n",
              "</div>\n",
              "    <div class=\"colab-df-buttons\">\n",
              "\n",
              "  <div class=\"colab-df-container\">\n",
              "    <button class=\"colab-df-convert\" onclick=\"convertToInteractive('df-54ee001a-1988-4132-bb03-b71e057aa9b1')\"\n",
              "            title=\"Convert this dataframe to an interactive table.\"\n",
              "            style=\"display:none;\">\n",
              "\n",
              "  <svg xmlns=\"http://www.w3.org/2000/svg\" height=\"24px\" viewBox=\"0 -960 960 960\">\n",
              "    <path d=\"M120-120v-720h720v720H120Zm60-500h600v-160H180v160Zm220 220h160v-160H400v160Zm0 220h160v-160H400v160ZM180-400h160v-160H180v160Zm440 0h160v-160H620v160ZM180-180h160v-160H180v160Zm440 0h160v-160H620v160Z\"/>\n",
              "  </svg>\n",
              "    </button>\n",
              "\n",
              "  <style>\n",
              "    .colab-df-container {\n",
              "      display:flex;\n",
              "      gap: 12px;\n",
              "    }\n",
              "\n",
              "    .colab-df-convert {\n",
              "      background-color: #E8F0FE;\n",
              "      border: none;\n",
              "      border-radius: 50%;\n",
              "      cursor: pointer;\n",
              "      display: none;\n",
              "      fill: #1967D2;\n",
              "      height: 32px;\n",
              "      padding: 0 0 0 0;\n",
              "      width: 32px;\n",
              "    }\n",
              "\n",
              "    .colab-df-convert:hover {\n",
              "      background-color: #E2EBFA;\n",
              "      box-shadow: 0px 1px 2px rgba(60, 64, 67, 0.3), 0px 1px 3px 1px rgba(60, 64, 67, 0.15);\n",
              "      fill: #174EA6;\n",
              "    }\n",
              "\n",
              "    .colab-df-buttons div {\n",
              "      margin-bottom: 4px;\n",
              "    }\n",
              "\n",
              "    [theme=dark] .colab-df-convert {\n",
              "      background-color: #3B4455;\n",
              "      fill: #D2E3FC;\n",
              "    }\n",
              "\n",
              "    [theme=dark] .colab-df-convert:hover {\n",
              "      background-color: #434B5C;\n",
              "      box-shadow: 0px 1px 3px 1px rgba(0, 0, 0, 0.15);\n",
              "      filter: drop-shadow(0px 1px 2px rgba(0, 0, 0, 0.3));\n",
              "      fill: #FFFFFF;\n",
              "    }\n",
              "  </style>\n",
              "\n",
              "    <script>\n",
              "      const buttonEl =\n",
              "        document.querySelector('#df-54ee001a-1988-4132-bb03-b71e057aa9b1 button.colab-df-convert');\n",
              "      buttonEl.style.display =\n",
              "        google.colab.kernel.accessAllowed ? 'block' : 'none';\n",
              "\n",
              "      async function convertToInteractive(key) {\n",
              "        const element = document.querySelector('#df-54ee001a-1988-4132-bb03-b71e057aa9b1');\n",
              "        const dataTable =\n",
              "          await google.colab.kernel.invokeFunction('convertToInteractive',\n",
              "                                                    [key], {});\n",
              "        if (!dataTable) return;\n",
              "\n",
              "        const docLinkHtml = 'Like what you see? Visit the ' +\n",
              "          '<a target=\"_blank\" href=https://colab.research.google.com/notebooks/data_table.ipynb>data table notebook</a>'\n",
              "          + ' to learn more about interactive tables.';\n",
              "        element.innerHTML = '';\n",
              "        dataTable['output_type'] = 'display_data';\n",
              "        await google.colab.output.renderOutput(dataTable, element);\n",
              "        const docLink = document.createElement('div');\n",
              "        docLink.innerHTML = docLinkHtml;\n",
              "        element.appendChild(docLink);\n",
              "      }\n",
              "    </script>\n",
              "  </div>\n",
              "\n",
              "\n",
              "<div id=\"df-59497664-4dac-4393-8eec-e7b0e7e53c73\">\n",
              "  <button class=\"colab-df-quickchart\" onclick=\"quickchart('df-59497664-4dac-4393-8eec-e7b0e7e53c73')\"\n",
              "            title=\"Suggest charts.\"\n",
              "            style=\"display:none;\">\n",
              "\n",
              "<svg xmlns=\"http://www.w3.org/2000/svg\" height=\"24px\"viewBox=\"0 0 24 24\"\n",
              "     width=\"24px\">\n",
              "    <g>\n",
              "        <path d=\"M19 3H5c-1.1 0-2 .9-2 2v14c0 1.1.9 2 2 2h14c1.1 0 2-.9 2-2V5c0-1.1-.9-2-2-2zM9 17H7v-7h2v7zm4 0h-2V7h2v10zm4 0h-2v-4h2v4z\"/>\n",
              "    </g>\n",
              "</svg>\n",
              "  </button>\n",
              "\n",
              "<style>\n",
              "  .colab-df-quickchart {\n",
              "      --bg-color: #E8F0FE;\n",
              "      --fill-color: #1967D2;\n",
              "      --hover-bg-color: #E2EBFA;\n",
              "      --hover-fill-color: #174EA6;\n",
              "      --disabled-fill-color: #AAA;\n",
              "      --disabled-bg-color: #DDD;\n",
              "  }\n",
              "\n",
              "  [theme=dark] .colab-df-quickchart {\n",
              "      --bg-color: #3B4455;\n",
              "      --fill-color: #D2E3FC;\n",
              "      --hover-bg-color: #434B5C;\n",
              "      --hover-fill-color: #FFFFFF;\n",
              "      --disabled-bg-color: #3B4455;\n",
              "      --disabled-fill-color: #666;\n",
              "  }\n",
              "\n",
              "  .colab-df-quickchart {\n",
              "    background-color: var(--bg-color);\n",
              "    border: none;\n",
              "    border-radius: 50%;\n",
              "    cursor: pointer;\n",
              "    display: none;\n",
              "    fill: var(--fill-color);\n",
              "    height: 32px;\n",
              "    padding: 0;\n",
              "    width: 32px;\n",
              "  }\n",
              "\n",
              "  .colab-df-quickchart:hover {\n",
              "    background-color: var(--hover-bg-color);\n",
              "    box-shadow: 0 1px 2px rgba(60, 64, 67, 0.3), 0 1px 3px 1px rgba(60, 64, 67, 0.15);\n",
              "    fill: var(--button-hover-fill-color);\n",
              "  }\n",
              "\n",
              "  .colab-df-quickchart-complete:disabled,\n",
              "  .colab-df-quickchart-complete:disabled:hover {\n",
              "    background-color: var(--disabled-bg-color);\n",
              "    fill: var(--disabled-fill-color);\n",
              "    box-shadow: none;\n",
              "  }\n",
              "\n",
              "  .colab-df-spinner {\n",
              "    border: 2px solid var(--fill-color);\n",
              "    border-color: transparent;\n",
              "    border-bottom-color: var(--fill-color);\n",
              "    animation:\n",
              "      spin 1s steps(1) infinite;\n",
              "  }\n",
              "\n",
              "  @keyframes spin {\n",
              "    0% {\n",
              "      border-color: transparent;\n",
              "      border-bottom-color: var(--fill-color);\n",
              "      border-left-color: var(--fill-color);\n",
              "    }\n",
              "    20% {\n",
              "      border-color: transparent;\n",
              "      border-left-color: var(--fill-color);\n",
              "      border-top-color: var(--fill-color);\n",
              "    }\n",
              "    30% {\n",
              "      border-color: transparent;\n",
              "      border-left-color: var(--fill-color);\n",
              "      border-top-color: var(--fill-color);\n",
              "      border-right-color: var(--fill-color);\n",
              "    }\n",
              "    40% {\n",
              "      border-color: transparent;\n",
              "      border-right-color: var(--fill-color);\n",
              "      border-top-color: var(--fill-color);\n",
              "    }\n",
              "    60% {\n",
              "      border-color: transparent;\n",
              "      border-right-color: var(--fill-color);\n",
              "    }\n",
              "    80% {\n",
              "      border-color: transparent;\n",
              "      border-right-color: var(--fill-color);\n",
              "      border-bottom-color: var(--fill-color);\n",
              "    }\n",
              "    90% {\n",
              "      border-color: transparent;\n",
              "      border-bottom-color: var(--fill-color);\n",
              "    }\n",
              "  }\n",
              "</style>\n",
              "\n",
              "  <script>\n",
              "    async function quickchart(key) {\n",
              "      const quickchartButtonEl =\n",
              "        document.querySelector('#' + key + ' button');\n",
              "      quickchartButtonEl.disabled = true;  // To prevent multiple clicks.\n",
              "      quickchartButtonEl.classList.add('colab-df-spinner');\n",
              "      try {\n",
              "        const charts = await google.colab.kernel.invokeFunction(\n",
              "            'suggestCharts', [key], {});\n",
              "      } catch (error) {\n",
              "        console.error('Error during call to suggestCharts:', error);\n",
              "      }\n",
              "      quickchartButtonEl.classList.remove('colab-df-spinner');\n",
              "      quickchartButtonEl.classList.add('colab-df-quickchart-complete');\n",
              "    }\n",
              "    (() => {\n",
              "      let quickchartButtonEl =\n",
              "        document.querySelector('#df-59497664-4dac-4393-8eec-e7b0e7e53c73 button');\n",
              "      quickchartButtonEl.style.display =\n",
              "        google.colab.kernel.accessAllowed ? 'block' : 'none';\n",
              "    })();\n",
              "  </script>\n",
              "</div>\n",
              "    </div>\n",
              "  </div>\n"
            ]
          },
          "metadata": {},
          "execution_count": 4
        }
      ]
    },
    {
      "cell_type": "code",
      "source": [
        "#Checking breast cancer dataset missing values\n",
        "data.isnull().sum()"
      ],
      "metadata": {
        "colab": {
          "base_uri": "https://localhost:8080/"
        },
        "id": "moun3JljURwP",
        "outputId": "a46273c7-7871-446b-b2fe-066c4b1ef999"
      },
      "execution_count": 5,
      "outputs": [
        {
          "output_type": "execute_result",
          "data": {
            "text/plain": [
              "id                           0\n",
              "diagnosis                    0\n",
              "radius_mean                  0\n",
              "texture_mean                 0\n",
              "perimeter_mean               0\n",
              "area_mean                    0\n",
              "smoothness_mean              0\n",
              "compactness_mean             0\n",
              "concavity_mean               0\n",
              "concave points_mean          0\n",
              "symmetry_mean                0\n",
              "fractal_dimension_mean       0\n",
              "radius_se                    0\n",
              "texture_se                   0\n",
              "perimeter_se                 0\n",
              "area_se                      0\n",
              "smoothness_se                0\n",
              "compactness_se               0\n",
              "concavity_se                 0\n",
              "concave points_se            0\n",
              "symmetry_se                  0\n",
              "fractal_dimension_se         0\n",
              "radius_worst                 0\n",
              "texture_worst                0\n",
              "perimeter_worst              0\n",
              "area_worst                   0\n",
              "smoothness_worst             0\n",
              "compactness_worst            0\n",
              "concavity_worst              0\n",
              "concave points_worst         0\n",
              "symmetry_worst               0\n",
              "fractal_dimension_worst      0\n",
              "Unnamed: 32                569\n",
              "dtype: int64"
            ]
          },
          "metadata": {},
          "execution_count": 5
        }
      ]
    },
    {
      "cell_type": "code",
      "source": [
        "#information of breast cancer\n",
        "data.info()"
      ],
      "metadata": {
        "colab": {
          "base_uri": "https://localhost:8080/"
        },
        "id": "rc_fD_cEUaJP",
        "outputId": "aead6db5-d666-408d-9137-973c173440ee"
      },
      "execution_count": 6,
      "outputs": [
        {
          "output_type": "stream",
          "name": "stdout",
          "text": [
            "<class 'pandas.core.frame.DataFrame'>\n",
            "RangeIndex: 569 entries, 0 to 568\n",
            "Data columns (total 33 columns):\n",
            " #   Column                   Non-Null Count  Dtype  \n",
            "---  ------                   --------------  -----  \n",
            " 0   id                       569 non-null    int64  \n",
            " 1   diagnosis                569 non-null    object \n",
            " 2   radius_mean              569 non-null    float64\n",
            " 3   texture_mean             569 non-null    float64\n",
            " 4   perimeter_mean           569 non-null    float64\n",
            " 5   area_mean                569 non-null    float64\n",
            " 6   smoothness_mean          569 non-null    float64\n",
            " 7   compactness_mean         569 non-null    float64\n",
            " 8   concavity_mean           569 non-null    float64\n",
            " 9   concave points_mean      569 non-null    float64\n",
            " 10  symmetry_mean            569 non-null    float64\n",
            " 11  fractal_dimension_mean   569 non-null    float64\n",
            " 12  radius_se                569 non-null    float64\n",
            " 13  texture_se               569 non-null    float64\n",
            " 14  perimeter_se             569 non-null    float64\n",
            " 15  area_se                  569 non-null    float64\n",
            " 16  smoothness_se            569 non-null    float64\n",
            " 17  compactness_se           569 non-null    float64\n",
            " 18  concavity_se             569 non-null    float64\n",
            " 19  concave points_se        569 non-null    float64\n",
            " 20  symmetry_se              569 non-null    float64\n",
            " 21  fractal_dimension_se     569 non-null    float64\n",
            " 22  radius_worst             569 non-null    float64\n",
            " 23  texture_worst            569 non-null    float64\n",
            " 24  perimeter_worst          569 non-null    float64\n",
            " 25  area_worst               569 non-null    float64\n",
            " 26  smoothness_worst         569 non-null    float64\n",
            " 27  compactness_worst        569 non-null    float64\n",
            " 28  concavity_worst          569 non-null    float64\n",
            " 29  concave points_worst     569 non-null    float64\n",
            " 30  symmetry_worst           569 non-null    float64\n",
            " 31  fractal_dimension_worst  569 non-null    float64\n",
            " 32  Unnamed: 32              0 non-null      float64\n",
            "dtypes: float64(31), int64(1), object(1)\n",
            "memory usage: 146.8+ KB\n"
          ]
        }
      ]
    },
    {
      "cell_type": "code",
      "source": [],
      "metadata": {
        "id": "-p-VZnOmUhMg"
      },
      "execution_count": null,
      "outputs": []
    },
    {
      "cell_type": "code",
      "source": [
        "from sklearn.ensemble import RandomForestClassifier\n",
        "\n",
        "y=data[\"diagnosis\"]\n",
        "x=data.drop([\"diagnosis\"], axis=1)\n",
        "from sklearn import preprocessing\n",
        "from sklearn.preprocessing import LabelEncoder\n",
        "le = preprocessing.LabelEncoder()"
      ],
      "metadata": {
        "id": "Rez4ZaZCUBph"
      },
      "execution_count": null,
      "outputs": []
    },
    {
      "cell_type": "code",
      "source": [
        "#all features without imputer data\n",
        "from sklearn.metrics import accuracy_score\n",
        "import xgboost as xgb\n",
        "from sklearn.ensemble import RandomForestClassifier, AdaBoostClassifier, ExtraTreesClassifier, GradientBoostingClassifier\n",
        "print(\"RF\")\n",
        "rfc = RandomForestClassifier(n_estimators=100, random_state=52)\n",
        "pred = rfc.fit(X_train, y_train).predict(X_test)\n",
        "print(accuracy_score(y_test,pred))\n",
        "print(\"ADA\")\n",
        "xgb = AdaBoostClassifier(n_estimators=100, random_state=52)\n",
        "xgb_pred = xgb.fit(X_train, y_train).predict(X_test)\n",
        "print(accuracy_score(y_test,xgb_pred))\n",
        "from sklearn.tree import DecisionTreeClassifier\n",
        "from sklearn.metrics import accuracy_score,classification_report\n",
        "dt = DecisionTreeClassifier(random_state=50)\n",
        "print(\"Decision Tree Classifier Result\")\n",
        "DecisionTree=dt.fit(X_train, y_train).predict(X_test)\n",
        "print(accuracy_score(y_test,DecisionTree))\n",
        "from sklearn.svm import SVC\n",
        "print(\"SVC\")\n",
        "svm = SVC(kernel='linear', C=2.0, random_state=52)\n",
        "svm.fit(X_train,y_train)\n",
        "y_pred=svm.predict(X_test)\n",
        "print(accuracy_score(y_test,y_pred))\n",
        "print(\"ETC\")\n",
        "b = ExtraTreesClassifier(n_estimators=100, random_state=52)\n",
        "b_pred = b.fit(X_train, y_train).predict(X_test)\n",
        "print(accuracy_score(y_test,b_pred))\n",
        "from sklearn.naive_bayes import MultinomialNB\n",
        "print(\"MultinomialNB NB\")\n",
        "gnb = MultinomialNB()\n",
        "gnb_pred = gnb.fit(X_train, y_train).predict(X_test)\n",
        "print(accuracy_score(y_test,gnb_pred))\n",
        "# Fitting XGBoost to the training data\n",
        "XGBClassifier = xgb.XGBClassifier()\n",
        "XGBoost=my_model.fit(X_train, y_train).predict(X_test)\n",
        "print(accuracy_score(y_test,XGBoost))\n",
        "from sklearn.linear_model import LogisticRegression\n",
        "lr=LogisticRegression()\n",
        "print(\"Logistic Regression Result\")\n",
        "logisticRegresion=lr.fit(X_train, y_train).predict(X_test)\n",
        "print(accuracy_score(y_test,logisticRegresion))\n",
        "\n",
        "from sklearn.calibration import CalibratedClassifierCV\n",
        "from sklearn.linear_model import SGDClassifier\n",
        "print(\"Stochastic Gradient Classifier\")\n",
        "clf = SGDClassifier(max_iter=1100, tol=1e-3)\n",
        "calibrated_clf = CalibratedClassifierCV(clf, cv=5, method='isotonic')\n",
        "predSGD=calibrated_clf.fit(X_train, y_train).predict(X_test)\n",
        "print(accuracy_score(y_test,predSGD))\n",
        "\n",
        "#from sklearn.linear_model import LogisticRegression\n",
        "from sklearn.ensemble import VotingClassifier\n",
        "#from sklearn.linear_model import SGDClassifier\n",
        "print(\"Voting Classifier XGB+RF+ETC\")\n",
        "clf1 = xgb.XGBClassifier()\n",
        "clf2 = RandomForestClassifier(n_estimators=100, random_state=52)\n",
        "clf3 = ExtraTreesClassifier(n_estimators=100, random_state=52)\n",
        "eclf1 = VotingClassifier(estimators=[\n",
        "        ('xgb', clf1), ('rf', clf2), ('etc', clf3)],voting='hard')\n",
        "predictionVC=eclf1.fit(X_train, y_train).predict(X_test)\n",
        "print(accuracy_score(y_test,predictionVC))"
      ],
      "metadata": {
        "id": "E7KV7ZMeUnqT"
      },
      "execution_count": null,
      "outputs": []
    },
    {
      "cell_type": "code",
      "execution_count": null,
      "metadata": {
        "id": "uarhCGQRTuTB"
      },
      "outputs": [],
      "source": [
        "# Splitting dataset into training and testing sets\n",
        "from sklearn.model_selection import train_test_split\n",
        "\n",
        "X_train, X_test, y_train, y_test = train_test_split(x, y, test_size=0.20, shuffle=True)"
      ]
    },
    {
      "cell_type": "code",
      "execution_count": null,
      "metadata": {
        "colab": {
          "base_uri": "https://localhost:8080/"
        },
        "id": "AI0hNb7JTuTC",
        "outputId": "0ad7721c-37c0-41c2-a868-5055a072225e"
      },
      "outputs": [
        {
          "output_type": "execute_result",
          "data": {
            "text/plain": [
              "686"
            ]
          },
          "metadata": {},
          "execution_count": 9
        }
      ],
      "source": [
        "len(y_train)"
      ]
    },
    {
      "cell_type": "code",
      "execution_count": null,
      "metadata": {
        "id": "5x0Fj4gPTuTC"
      },
      "outputs": [],
      "source": [
        "from sklearn.metrics import accuracy_score\n",
        "from sklearn.metrics import classification_report\n",
        "from sklearn.metrics import confusion_matrix"
      ]
    },
    {
      "cell_type": "code",
      "execution_count": null,
      "metadata": {
        "id": "CUi2ODiHTuTC"
      },
      "outputs": [],
      "source": [
        "from sklearn.tree import DecisionTreeClassifier\n",
        "dt=DecisionTreeClassifier(max_depth=50)\n",
        "dtPre=dt.fit(X_train, y_train).predict(X_test)\n",
        "print(accuracy_score(y_test,dtPre))\n",
        "print(classification_report(y_test,dtPre))\n",
        "print(confusion_matrix(y_test,dtPre))"
      ]
    },
    {
      "cell_type": "code",
      "execution_count": null,
      "metadata": {
        "id": "1Jb4nxBmTuTC"
      },
      "outputs": [],
      "source": [
        "from sklearn.ensemble import RandomForestClassifier, AdaBoostClassifier\n",
        "print(\"ADA\")\n",
        "xgb = AdaBoostClassifier(n_estimators=200, random_state=5)\n",
        "xgb_pred = xgb.fit(X_train, y_train).predict(X_test)\n",
        "print(classification_report(y_test,xgb_pred))\n",
        "print(confusion_matrix(y_test,xgb_pred))"
      ]
    },
    {
      "cell_type": "code",
      "execution_count": null,
      "metadata": {
        "id": "-a1rWTY0TuTD"
      },
      "outputs": [],
      "source": [
        "from sklearn.svm import SVC\n",
        "print(\"SVC\")\n",
        "svm = SVC(kernel='linear', C=1.0, random_state=500)\n",
        "svm.fit(X_train,y_train)\n",
        "y_pred=svm.predict(X_test)\n",
        "print(classification_report(y_test,y_pred))\n",
        "print(confusion_matrix(y_test,y_pred))\n"
      ]
    },
    {
      "cell_type": "code",
      "execution_count": null,
      "metadata": {
        "id": "3UXfYIECTuTD"
      },
      "outputs": [],
      "source": [
        "from sklearn.ensemble import RandomForestClassifier\n",
        "rfc = RandomForestClassifier(n_estimators=200, random_state=5, max_depth=20)\n",
        "rfc.fit(X_train, y_train)\n",
        "# calculate accuracy of class predictions\n",
        "y_pred_class = rfc.predict(X_test)\n",
        "print(classification_report(y_test,y_pred_class))\n",
        "print(confusion_matrix(y_test,y_pred_class))"
      ]
    },
    {
      "cell_type": "code",
      "execution_count": null,
      "metadata": {
        "id": "mJ8LafJjTuTD"
      },
      "outputs": [],
      "source": [
        "from sklearn.ensemble import ExtraTreesClassifier\n",
        "print(\"ETC\")\n",
        "b = ExtraTreesClassifier(n_estimators=200, random_state=5, max_depth=20)\n",
        "b_pred = b.fit(X_train, y_train).predict(X_test)\n",
        "print(classification_report(y_test,b_pred))\n",
        "print(confusion_matrix(y_test,b_pred))"
      ]
    },
    {
      "cell_type": "code",
      "execution_count": null,
      "metadata": {
        "id": "oM-A4_DpTuTD"
      },
      "outputs": [],
      "source": [
        "from sklearn.linear_model import LogisticRegression\n",
        "from sklearn.svm import SVC\n",
        "# 2. instantiate a logistic regression model\n",
        "logreg = LogisticRegression(random_state=1000, solver='liblinear',multi_class='ovr',C=3.0)\n",
        "# 3. train the model using X_train_dtm\n",
        "x=logreg.fit(X_train, y_train)\n",
        "# 4. make class predictions for X_test_dtm\n",
        "y_pred_class = logreg.predict(X_test)\n",
        "print(classification_report(y_test,y_pred_class))\n",
        "print(confusion_matrix(y_test,y_pred_class))\n"
      ]
    },
    {
      "cell_type": "code",
      "execution_count": null,
      "metadata": {
        "id": "18ErM3lhTuTD"
      },
      "outputs": [],
      "source": [
        "from sklearn.linear_model import SGDClassifier\n",
        "r3=SGDClassifier(max_iter=1000, tol=1e-3,loss='perceptron')\n",
        "x=r3.fit(X_train, y_train)\n",
        "\n",
        "y_pred_class = r3.predict(X_test)\n",
        "print(classification_report(y_test,y_pred_class))\n",
        "print(confusion_matrix(y_test,y_pred_class))\n"
      ]
    },
    {
      "cell_type": "code",
      "source": [
        "import numpy as np\n",
        "from sklearn.ensemble import RandomForestClassifier, VotingClassifier\n",
        "r1 = LogisticRegression(random_state=1000, solver='liblinear',multi_class='ovr',C=3.0)\n",
        "r2 = SVC(kernel='linear', C=1.0, random_state=500,probability=True)\n",
        "r3 = SGDClassifier(max_iter=1000, tol=1e-3,loss='perceptron')\n",
        "er = VotingClassifier([('lr', r1),('svc', r2),('sgdc', r3)],voting=\"hard\")\n",
        "\n",
        "x=er.fit(X_train, y_train)\n",
        "\n",
        "y_pred_class = er.predict(X_test)\n",
        "print(classification_report(y_test,y_pred_class))\n",
        "print(confusion_matrix(y_test,y_pred_class))\n"
      ],
      "metadata": {
        "id": "gxx6rovUVeFr"
      },
      "execution_count": null,
      "outputs": []
    },
    {
      "cell_type": "code",
      "execution_count": null,
      "metadata": {
        "id": "67l00LbOTuTI"
      },
      "outputs": [],
      "source": []
    },
    {
      "cell_type": "code",
      "execution_count": null,
      "metadata": {
        "id": "o1K5DmQKTuTI"
      },
      "outputs": [],
      "source": [
        "import numpy as np # linear algebra\n",
        "\n",
        "import pandas as pd # data processing, CSV file I/O (e.g. pd.read_csv)\n",
        "import matplotlib.pyplot as plt\n",
        "# Input data files are available in the \"../input/\" directory.\n",
        "# For example, running this (by clicking run or pressing Shift+Enter) will list the files in the input directory\n",
        "\n",
        "import os\n",
        "import glob\n",
        "import cv2\n",
        "import tensorflow as tf\n",
        "from keras import layers\n",
        "from keras.layers import Dropout , Input, Add, Dense, Activation, ZeroPadding2D, BatchNormalization, Flatten, Conv2D, AveragePooling2D, MaxPooling2D, GlobalMaxPooling2D\n",
        "from keras.models import Model, load_model\n",
        "from keras.initializers import glorot_uniform\n",
        "from sklearn.model_selection import train_test_split\n",
        "import keras.backend as K\n",
        "from sklearn.utils import shuffle\n",
        "# importing all necessary libraries to run the code\n",
        "import re,string\n",
        "import numpy as np\n",
        "import pandas as pd\n",
        "import keras_metrics\n",
        "import tensorflow.keras\n",
        "import matplotlib.pyplot as plt\n",
        "from nltk.corpus import stopwords\n",
        "from keras.models import Sequential\n",
        "from sklearn.model_selection import train_test_split\n",
        "from keras.layers import Dense, Flatten, LSTM, Conv1D, MaxPooling1D, Dropout, Activation,Embedding\n",
        "# using the variable sw to hold all stopwords that are in English\n",
        "sw = stopwords.words('english')"
      ]
    },
    {
      "cell_type": "code",
      "execution_count": null,
      "metadata": {
        "id": "YC3rewo2TuTI"
      },
      "outputs": [],
      "source": [
        "from sklearn import preprocessing\n",
        "le = preprocessing.LabelEncoder()\n",
        "le = preprocessing.LabelEncoder()\n",
        "y = le.fit_transform(target)"
      ]
    },
    {
      "cell_type": "code",
      "execution_count": null,
      "metadata": {
        "id": "33TZS18pTuTI"
      },
      "outputs": [],
      "source": [
        "X_train_res=df.astype(int)"
      ]
    },
    {
      "cell_type": "code",
      "execution_count": null,
      "metadata": {
        "id": "xynwf3OBTuTK"
      },
      "outputs": [],
      "source": [
        "from sklearn.tree import DecisionTreeClassifier\n",
        "dt=DecisionTreeClassifier(max_depth=50)\n",
        "dtPre=dt.fit(X_train, y_train).predict(X_test)\n",
        "print(accuracy_score(y_test,dtPre))\n",
        "print(classification_report(y_test,dtPre))\n",
        "print(confusion_matrix(y_test,dtPre))"
      ]
    },
    {
      "cell_type": "code",
      "source": [
        "from sklearn.ensemble import RandomForestClassifier\n",
        "rfc = RandomForestClassifier(n_estimators=200, random_state=5, max_depth=20)\n",
        "rfc.fit(X_train, y_train)\n",
        "# calculate accuracy of class predictions\n",
        "y_pred_class = rfc.predict(X_test)\n",
        "print(classification_report(y_test,y_pred_class))\n",
        "print(confusion_matrix(y_test,y_pred_class))"
      ],
      "metadata": {
        "id": "-lSEdExeWCUE"
      },
      "execution_count": null,
      "outputs": []
    },
    {
      "cell_type": "code",
      "execution_count": null,
      "metadata": {
        "id": "qoak1VaNTuTL"
      },
      "outputs": [],
      "source": [
        "from sklearn.ensemble import ExtraTreesClassifier\n",
        "print(\"ETC\")\n",
        "b = ExtraTreesClassifier(n_estimators=300, random_state=5, max_depth=20)\n",
        "b_pred = b.fit(X_train, y_train).predict(X_test)\n",
        "print(classification_report(y_test,b_pred))\n",
        "print(confusion_matrix(y_test,b_pred))"
      ]
    },
    {
      "cell_type": "code",
      "source": [
        "from sklearn.ensemble import RandomForestClassifier, AdaBoostClassifier\n",
        "print(\"ADA\")\n",
        "xgb = AdaBoostClassifier(n_estimators=100, random_state=5)\n",
        "xgb_pred = xgb.fit(X_train, y_train).predict(X_test)\n",
        "print(classification_report(y_test,xgb_pred))\n",
        "print(confusion_matrix(y_test,xgb_pred))"
      ],
      "metadata": {
        "id": "8KWF2xnZWF2-"
      },
      "execution_count": null,
      "outputs": []
    },
    {
      "cell_type": "code",
      "execution_count": null,
      "metadata": {
        "id": "gljP_C-pTuTP",
        "outputId": "7e4aaf9c-c819-42e1-a313-a5976092eeb5"
      },
      "outputs": [
        {
          "name": "stdout",
          "output_type": "stream",
          "text": [
            "              precision    recall  f1-score   support\n",
            "\n",
            "           0       0.76      0.73      0.75        26\n",
            "           1       0.81      0.83      0.82        35\n",
            "\n",
            "    accuracy                           0.79        61\n",
            "   macro avg       0.78      0.78      0.78        61\n",
            "weighted avg       0.79      0.79      0.79        61\n",
            "\n",
            "[[19  7]\n",
            " [ 6 29]]\n"
          ]
        }
      ],
      "source": [
        "import numpy as np\n",
        "from sklearn.ensemble import RandomForestClassifier, VotingClassifier\n",
        "r1 = LogisticRegression(random_state=1000, solver='saga',multi_class='ovr',C=2.0)\n",
        "r2 = SVC(kernel='linear', C=1.0, random_state=2, probability=True)\n",
        "r3=SGDClassifier(loss='perceptron')\n",
        "er = VotingClassifier([('svc', r2),('lr', r1),('sgdc', r3)],voting=\"hard\")\n",
        "\n",
        "x=er.fit(X_train, y_train)\n",
        "\n",
        "y_pred_class = er.predict(X_test)\n",
        "print(classification_report(y_test,y_pred_class))\n",
        "print(confusion_matrix(y_test,y_pred_class))"
      ]
    },
    {
      "cell_type": "code",
      "execution_count": null,
      "metadata": {
        "id": "Su6CFAgQTuTP",
        "outputId": "7223400f-25bd-45f5-ad0c-a813d4af2305"
      },
      "outputs": [
        {
          "name": "stdout",
          "output_type": "stream",
          "text": [
            "              precision    recall  f1-score   support\n",
            "\n",
            "           0       0.81      0.81      0.81        26\n",
            "           1       0.86      0.86      0.86        35\n",
            "\n",
            "    accuracy                           0.84        61\n",
            "   macro avg       0.83      0.83      0.83        61\n",
            "weighted avg       0.84      0.84      0.84        61\n",
            "\n",
            "[[21  5]\n",
            " [ 5 30]]\n"
          ]
        }
      ],
      "source": [
        "from sklearn.linear_model import LogisticRegression\n",
        "from sklearn.svm import SVC\n",
        "# 2. instantiate a logistic regression model\n",
        "logreg = LogisticRegression(random_state=1000, solver='saga',multi_class='ovr',C=2.0)\n",
        "# 3. train the model using X_train_dtm\n",
        "x=logreg.fit(X_train, y_train)\n",
        "# 4. make class predictions for X_test_dtm\n",
        "y_pred_class = logreg.predict(X_test)\n",
        "print(classification_report(y_test,y_pred_class))\n",
        "print(confusion_matrix(y_test,y_pred_class))\n"
      ]
    },
    {
      "cell_type": "code",
      "execution_count": null,
      "metadata": {
        "id": "oE_rAXkxTuTP",
        "outputId": "f778c097-b27a-4860-f9c6-5b49efca96c7"
      },
      "outputs": [
        {
          "name": "stdout",
          "output_type": "stream",
          "text": [
            "SVC\n",
            "              precision    recall  f1-score   support\n",
            "\n",
            "           0       0.79      0.85      0.81        26\n",
            "           1       0.88      0.83      0.85        35\n",
            "\n",
            "    accuracy                           0.84        61\n",
            "   macro avg       0.83      0.84      0.83        61\n",
            "weighted avg       0.84      0.84      0.84        61\n",
            "\n",
            "[[22  4]\n",
            " [ 6 29]]\n"
          ]
        }
      ],
      "source": [
        "from sklearn.svm import SVC\n",
        "print(\"SVC\")\n",
        "svm = SVC(kernel='sigmoid', C=1.0, random_state=2)\n",
        "svm.fit(X_train,y_train)\n",
        "y_pred=svm.predict(X_test)\n",
        "print(classification_report(y_test,y_pred))\n",
        "print(confusion_matrix(y_test,y_pred))"
      ]
    },
    {
      "cell_type": "code",
      "execution_count": null,
      "metadata": {
        "id": "BqtEXi9OTuTP"
      },
      "outputs": [],
      "source": []
    },
    {
      "cell_type": "code",
      "execution_count": null,
      "metadata": {
        "id": "Zli8U53bTuTP"
      },
      "outputs": [],
      "source": []
    },
    {
      "cell_type": "code",
      "execution_count": null,
      "metadata": {
        "id": "0PV1eqwNTuTP"
      },
      "outputs": [],
      "source": []
    },
    {
      "cell_type": "code",
      "execution_count": null,
      "metadata": {
        "id": "PhUh_XrqTuTQ"
      },
      "outputs": [],
      "source": []
    },
    {
      "cell_type": "code",
      "execution_count": null,
      "metadata": {
        "id": "9tidG7D_TuTQ"
      },
      "outputs": [],
      "source": [
        "#knn imputer data\n",
        "from sklearn.metrics import accuracy_score\n",
        "import xgboost as xgb\n",
        "from sklearn.ensemble import RandomForestClassifier, AdaBoostClassifier, ExtraTreesClassifier, GradientBoostingClassifier\n",
        "print(\"RF\")\n",
        "rfc = RandomForestClassifier(n_estimators=100, random_state=52)\n",
        "pred = rfc.fit(X_train, y_train).predict(X_test)\n",
        "print(accuracy_score(y_test,pred))\n",
        "print(\"ADA\")\n",
        "xgb = AdaBoostClassifier(n_estimators=100, random_state=52)\n",
        "xgb_pred = xgb.fit(X_train, y_train).predict(X_test)\n",
        "print(accuracy_score(y_test,xgb_pred))\n",
        "from sklearn.tree import DecisionTreeClassifier\n",
        "from sklearn.metrics import accuracy_score,classification_report\n",
        "dt = DecisionTreeClassifier(random_state=50)\n",
        "print(\"Decision Tree Classifier Result\")\n",
        "DecisionTree=dt.fit(X_train, y_train).predict(X_test)\n",
        "print(accuracy_score(y_test,DecisionTree))\n",
        "from sklearn.svm import SVC\n",
        "print(\"SVC\")\n",
        "svm = SVC(kernel='linear', C=2.0, random_state=52)\n",
        "svm.fit(X_train,y_train)\n",
        "y_pred=svm.predict(X_test)\n",
        "print(accuracy_score(y_test,y_pred))\n",
        "print(\"ETC\")\n",
        "b = ExtraTreesClassifier(n_estimators=100, random_state=52)\n",
        "b_pred = b.fit(X_train, y_train).predict(X_test)\n",
        "print(accuracy_score(y_test,b_pred))\n",
        "from sklearn.naive_bayes import MultinomialNB\n",
        "print(\"MultinomialNB NB\")\n",
        "gnb = MultinomialNB()\n",
        "gnb_pred = gnb.fit(X_train, y_train).predict(X_test)\n",
        "print(accuracy_score(y_test,gnb_pred))\n",
        "# Fitting XGBoost to the training data\n",
        "XGBClassifier = xgb.XGBClassifier()\n",
        "XGBoost=my_model.fit(X_train, y_train).predict(X_test)\n",
        "print(accuracy_score(y_test,XGBoost))\n",
        "from sklearn.linear_model import LogisticRegression\n",
        "lr=LogisticRegression()\n",
        "print(\"Logistic Regression Result\")\n",
        "logisticRegresion=lr.fit(X_train, y_train).predict(X_test)\n",
        "print(accuracy_score(y_test,logisticRegresion))\n",
        "\n",
        "from sklearn.calibration import CalibratedClassifierCV\n",
        "from sklearn.linear_model import SGDClassifier\n",
        "print(\"Stochastic Gradient Classifier\")\n",
        "clf = SGDClassifier(max_iter=1100, tol=1e-3)\n",
        "calibrated_clf = CalibratedClassifierCV(clf, cv=5, method='isotonic')\n",
        "predSGD=calibrated_clf.fit(X_train, y_train).predict(X_test)\n",
        "print(accuracy_score(y_test,predSGD))\n",
        "\n",
        "#from sklearn.linear_model import LogisticRegression\n",
        "from sklearn.ensemble import VotingClassifier\n",
        "#from sklearn.linear_model import SGDClassifier\n",
        "print(\"Voting Classifier XGB+RF+ETC\")\n",
        "clf1 = xgb.XGBClassifier()\n",
        "clf2 = RandomForestClassifier(n_estimators=100, random_state=52)\n",
        "clf3 = ExtraTreesClassifier(n_estimators=100, random_state=52)\n",
        "eclf1 = VotingClassifier(estimators=[\n",
        "        ('xgb', clf1), ('rf', clf2), ('etc', clf3)],voting='hard')\n",
        "predictionVC=eclf1.fit(X_train, y_train).predict(X_test)\n",
        "print(accuracy_score(y_test,predictionVC))"
      ]
    },
    {
      "cell_type": "code",
      "execution_count": null,
      "metadata": {
        "id": "MVzM9pEoTuTQ"
      },
      "outputs": [],
      "source": []
    },
    {
      "cell_type": "code",
      "execution_count": null,
      "metadata": {
        "id": "2FyOVatoTuTQ"
      },
      "outputs": [],
      "source": []
    },
    {
      "cell_type": "code",
      "execution_count": null,
      "metadata": {
        "id": "sAWrAQKsTuTQ"
      },
      "outputs": [],
      "source": []
    },
    {
      "cell_type": "code",
      "execution_count": null,
      "metadata": {
        "id": "9WM0_ES5TuTQ"
      },
      "outputs": [],
      "source": [
        "#PCA imputer data\n",
        "from sklearn.metrics import accuracy_score\n",
        "import xgboost as xgb\n",
        "from sklearn.ensemble import RandomForestClassifier, AdaBoostClassifier, ExtraTreesClassifier, GradientBoostingClassifier\n",
        "print(\"RF\")\n",
        "rfc = RandomForestClassifier(n_estimators=100, random_state=52)\n",
        "pred = rfc.fit(X_train, y_train).predict(X_test)\n",
        "print(accuracy_score(y_test,pred))\n",
        "print(\"ADA\")\n",
        "xgb = AdaBoostClassifier(n_estimators=100, random_state=52)\n",
        "xgb_pred = xgb.fit(X_train, y_train).predict(X_test)\n",
        "print(accuracy_score(y_test,xgb_pred))\n",
        "from sklearn.tree import DecisionTreeClassifier\n",
        "from sklearn.metrics import accuracy_score,classification_report\n",
        "dt = DecisionTreeClassifier(random_state=50)\n",
        "print(\"Decision Tree Classifier Result\")\n",
        "DecisionTree=dt.fit(X_train, y_train).predict(X_test)\n",
        "print(accuracy_score(y_test,DecisionTree))\n",
        "from sklearn.svm import SVC\n",
        "print(\"SVC\")\n",
        "svm = SVC(kernel='linear', C=2.0, random_state=52)\n",
        "svm.fit(X_train,y_train)\n",
        "y_pred=svm.predict(X_test)\n",
        "print(accuracy_score(y_test,y_pred))\n",
        "print(\"ETC\")\n",
        "b = ExtraTreesClassifier(n_estimators=100, random_state=52)\n",
        "b_pred = b.fit(X_train, y_train).predict(X_test)\n",
        "print(accuracy_score(y_test,b_pred))\n",
        "from sklearn.naive_bayes import MultinomialNB\n",
        "print(\"MultinomialNB NB\")\n",
        "gnb = MultinomialNB()\n",
        "gnb_pred = gnb.fit(X_train, y_train).predict(X_test)\n",
        "print(accuracy_score(y_test,gnb_pred))\n",
        "# Fitting XGBoost to the training data\n",
        "XGBClassifier = xgb.XGBClassifier()\n",
        "XGBoost=my_model.fit(X_train, y_train).predict(X_test)\n",
        "print(accuracy_score(y_test,XGBoost))\n",
        "from sklearn.linear_model import LogisticRegression\n",
        "lr=LogisticRegression()\n",
        "print(\"Logistic Regression Result\")\n",
        "logisticRegresion=lr.fit(X_train, y_train).predict(X_test)\n",
        "print(accuracy_score(y_test,logisticRegresion))\n",
        "\n",
        "from sklearn.calibration import CalibratedClassifierCV\n",
        "from sklearn.linear_model import SGDClassifier\n",
        "print(\"Stochastic Gradient Classifier\")\n",
        "clf = SGDClassifier(max_iter=1100, tol=1e-3)\n",
        "calibrated_clf = CalibratedClassifierCV(clf, cv=5, method='isotonic')\n",
        "predSGD=calibrated_clf.fit(X_train, y_train).predict(X_test)\n",
        "print(accuracy_score(y_test,predSGD))\n",
        "\n",
        "#from sklearn.linear_model import LogisticRegression\n",
        "from sklearn.ensemble import VotingClassifier\n",
        "#from sklearn.linear_model import SGDClassifier\n",
        "print(\"Voting Classifier XGB+RF+ETC\")\n",
        "clf1 = xgb.XGBClassifier()\n",
        "clf2 = RandomForestClassifier(n_estimators=100, random_state=52)\n",
        "clf3 = ExtraTreesClassifier(n_estimators=100, random_state=52)\n",
        "eclf1 = VotingClassifier(estimators=[\n",
        "        ('xgb', clf1), ('rf', clf2), ('etc', clf3)],voting='hard')\n",
        "predictionVC=eclf1.fit(X_train, y_train).predict(X_test)\n",
        "print(accuracy_score(y_test,predictionVC))"
      ]
    },
    {
      "cell_type": "code",
      "execution_count": null,
      "metadata": {
        "id": "-5_f0knITuTQ"
      },
      "outputs": [],
      "source": []
    },
    {
      "cell_type": "code",
      "execution_count": null,
      "metadata": {
        "id": "rweU3A9fTuTQ"
      },
      "outputs": [],
      "source": []
    },
    {
      "cell_type": "code",
      "execution_count": null,
      "metadata": {
        "id": "kNDIZG-STuTQ"
      },
      "outputs": [],
      "source": []
    },
    {
      "cell_type": "code",
      "execution_count": null,
      "metadata": {
        "id": "dQN5G1YcTuTQ"
      },
      "outputs": [],
      "source": []
    },
    {
      "cell_type": "code",
      "execution_count": null,
      "metadata": {
        "id": "cKwVCRpATuTR"
      },
      "outputs": [],
      "source": []
    },
    {
      "cell_type": "code",
      "execution_count": null,
      "metadata": {
        "id": "QqtySrhATuTR"
      },
      "outputs": [],
      "source": []
    },
    {
      "cell_type": "code",
      "execution_count": null,
      "metadata": {
        "id": "CImF4DJpTuTR"
      },
      "outputs": [],
      "source": []
    },
    {
      "cell_type": "code",
      "execution_count": null,
      "metadata": {
        "id": "HZso2YZ8TuTR"
      },
      "outputs": [],
      "source": []
    },
    {
      "cell_type": "code",
      "execution_count": null,
      "metadata": {
        "id": "WOXlul11TuTR"
      },
      "outputs": [],
      "source": []
    },
    {
      "cell_type": "code",
      "execution_count": null,
      "metadata": {
        "id": "nJWMSYwmTuTR"
      },
      "outputs": [],
      "source": []
    },
    {
      "cell_type": "code",
      "execution_count": null,
      "metadata": {
        "id": "DL3-2cDhTuTR"
      },
      "outputs": [],
      "source": []
    },
    {
      "cell_type": "code",
      "execution_count": null,
      "metadata": {
        "id": "aahY35xHTuTR"
      },
      "outputs": [],
      "source": []
    },
    {
      "cell_type": "code",
      "execution_count": null,
      "metadata": {
        "id": "z-iyyresTuTR"
      },
      "outputs": [],
      "source": []
    },
    {
      "cell_type": "code",
      "execution_count": null,
      "metadata": {
        "id": "sv3fcoHuTuTS"
      },
      "outputs": [],
      "source": []
    },
    {
      "cell_type": "code",
      "execution_count": null,
      "metadata": {
        "id": "7gGZaWibTuTS",
        "outputId": "c1d5d03e-9678-45ad-c1d1-1ab1eaa51bf8"
      },
      "outputs": [
        {
          "name": "stdout",
          "output_type": "stream",
          "text": [
            "              precision    recall  f1-score   support\n",
            "\n",
            "           0       0.94      0.85      0.89        93\n",
            "           1       0.86      0.95      0.90        91\n",
            "\n",
            "    accuracy                           0.90       184\n",
            "   macro avg       0.90      0.90      0.90       184\n",
            "weighted avg       0.90      0.90      0.90       184\n",
            "\n",
            "[[79 14]\n",
            " [ 5 86]]\n"
          ]
        }
      ],
      "source": [
        "from sklearn.linear_model import LogisticRegression\n",
        "from sklearn.svm import SVC\n",
        "# 2. instantiate a logistic regression model\n",
        "logreg = LogisticRegression(random_state=1000, solver='saga',multi_class='ovr',C=2.0)\n",
        "# 3. train the model using X_train_dtm\n",
        "x=logreg.fit(X_train, y_train)\n",
        "# 4. make class predictions for X_test_dtm\n",
        "y_pred_class = logreg.predict(X_test)\n",
        "print(classification_report(y_test,y_pred_class))\n",
        "print(confusion_matrix(y_test,y_pred_class))\n"
      ]
    },
    {
      "cell_type": "code",
      "execution_count": null,
      "metadata": {
        "id": "6d-LIzQ9TuTS"
      },
      "outputs": [],
      "source": []
    },
    {
      "cell_type": "code",
      "execution_count": null,
      "metadata": {
        "id": "hUhHHAuhTuTS",
        "outputId": "240bd199-d530-4b76-ec70-4373f11be6bc"
      },
      "outputs": [
        {
          "name": "stdout",
          "output_type": "stream",
          "text": [
            "SVC\n",
            "              precision    recall  f1-score   support\n",
            "\n",
            "           0       0.94      0.85      0.89        93\n",
            "           1       0.86      0.95      0.90        91\n",
            "\n",
            "    accuracy                           0.90       184\n",
            "   macro avg       0.90      0.90      0.90       184\n",
            "weighted avg       0.90      0.90      0.90       184\n",
            "\n",
            "[[79 14]\n",
            " [ 5 86]]\n"
          ]
        }
      ],
      "source": [
        "from sklearn.svm import SVC\n",
        "print(\"SVC\")\n",
        "svm = SVC(kernel='sigmoid', C=1.0, random_state=2)\n",
        "svm.fit(X_train,y_train)\n",
        "y_pred=svm.predict(X_test)\n",
        "print(classification_report(y_test,y_pred))\n",
        "print(confusion_matrix(y_test,y_pred))\n"
      ]
    },
    {
      "cell_type": "code",
      "execution_count": null,
      "metadata": {
        "id": "_rjo1FICTuTS"
      },
      "outputs": [],
      "source": []
    },
    {
      "cell_type": "code",
      "execution_count": null,
      "metadata": {
        "id": "LSBB6HpMTuTS"
      },
      "outputs": [],
      "source": []
    },
    {
      "cell_type": "code",
      "execution_count": null,
      "metadata": {
        "id": "bxH55mcLTuTS"
      },
      "outputs": [],
      "source": []
    },
    {
      "cell_type": "code",
      "execution_count": null,
      "metadata": {
        "id": "Ei94OIUmTuTU"
      },
      "outputs": [],
      "source": [
        "# Splitting dataset into training and testing sets\n",
        "from sklearn.model_selection import train_test_split\n",
        "\n",
        "X_train, X_test, y_train, y_test = train_test_split(rounded_predictions, target, test_size=0.20, shuffle=True)"
      ]
    },
    {
      "cell_type": "code",
      "execution_count": null,
      "metadata": {
        "id": "zlco5Lr3TuTU",
        "outputId": "e02821f7-cde0-444a-911f-5268f583880f"
      },
      "outputs": [
        {
          "name": "stdout",
          "output_type": "stream",
          "text": [
            "ETC\n",
            "              precision    recall  f1-score   support\n",
            "\n",
            "           0       0.83      0.85      0.84        73\n",
            "           1       0.90      0.88      0.89       111\n",
            "\n",
            "    accuracy                           0.87       184\n",
            "   macro avg       0.86      0.87      0.86       184\n",
            "weighted avg       0.87      0.87      0.87       184\n",
            "\n",
            "[[62 11]\n",
            " [13 98]]\n"
          ]
        }
      ],
      "source": [
        "from sklearn.ensemble import ExtraTreesClassifier\n",
        "print(\"ETC\")\n",
        "b = ExtraTreesClassifier(n_estimators=300, random_state=5, max_depth=20)\n",
        "b_pred = b.fit(X_train, y_train).predict(X_test)\n",
        "print(classification_report(y_test,b_pred))\n",
        "print(confusion_matrix(y_test,b_pred))"
      ]
    },
    {
      "cell_type": "code",
      "execution_count": null,
      "metadata": {
        "id": "6xGZFnUMTuTU",
        "outputId": "2c6cc400-5159-4f02-c0c6-904ecc870aa1"
      },
      "outputs": [
        {
          "name": "stdout",
          "output_type": "stream",
          "text": [
            "ADA\n",
            "              precision    recall  f1-score   support\n",
            "\n",
            "           0       0.79      0.79      0.79        73\n",
            "           1       0.86      0.86      0.86       111\n",
            "\n",
            "    accuracy                           0.84       184\n",
            "   macro avg       0.83      0.83      0.83       184\n",
            "weighted avg       0.84      0.84      0.84       184\n",
            "\n",
            "[[58 15]\n",
            " [15 96]]\n"
          ]
        }
      ],
      "source": [
        "from sklearn.ensemble import RandomForestClassifier, AdaBoostClassifier\n",
        "print(\"ADA\")\n",
        "xgb = AdaBoostClassifier(n_estimators=100, random_state=5)\n",
        "xgb_pred = xgb.fit(X_train, y_train).predict(X_test)\n",
        "print(classification_report(y_test,xgb_pred))\n",
        "print(confusion_matrix(y_test,xgb_pred))"
      ]
    },
    {
      "cell_type": "code",
      "execution_count": null,
      "metadata": {
        "id": "y1CaTq7uTuTV",
        "outputId": "c8b175b4-b1b4-4b8e-b1de-b3665f998610"
      },
      "outputs": [
        {
          "name": "stdout",
          "output_type": "stream",
          "text": [
            "              precision    recall  f1-score   support\n",
            "\n",
            "           0       0.82      0.85      0.83        73\n",
            "           1       0.90      0.87      0.89       111\n",
            "\n",
            "    accuracy                           0.86       184\n",
            "   macro avg       0.86      0.86      0.86       184\n",
            "weighted avg       0.87      0.86      0.86       184\n",
            "\n",
            "[[62 11]\n",
            " [14 97]]\n"
          ]
        }
      ],
      "source": [
        "import numpy as np\n",
        "from sklearn.ensemble import RandomForestClassifier, VotingClassifier\n",
        "r1 = LogisticRegression(random_state=1000, solver='saga',multi_class='ovr',C=2.0)\n",
        "r2 = SVC(kernel='sigmoid', C=1.0, random_state=2, probability=True)\n",
        "er = VotingClassifier([('lr', r1),('svc', r2)],voting=\"soft\")\n",
        "\n",
        "x=er.fit(X_train, y_train)\n",
        "\n",
        "y_pred_class = er.predict(X_test)\n",
        "print(classification_report(y_test,y_pred_class))\n",
        "print(confusion_matrix(y_test,y_pred_class))\n"
      ]
    },
    {
      "cell_type": "code",
      "execution_count": null,
      "metadata": {
        "id": "w1JIQIMxTuTV"
      },
      "outputs": [],
      "source": []
    },
    {
      "cell_type": "code",
      "execution_count": null,
      "metadata": {
        "id": "F08tq0GRTuTV",
        "outputId": "6ab4078a-0ca2-4a86-84d6-5744db8020e3"
      },
      "outputs": [
        {
          "name": "stdout",
          "output_type": "stream",
          "text": [
            "              precision    recall  f1-score   support\n",
            "\n",
            "           0       0.86      0.82      0.84        66\n",
            "           1       0.84      0.88      0.86        72\n",
            "\n",
            "    accuracy                           0.85       138\n",
            "   macro avg       0.85      0.85      0.85       138\n",
            "weighted avg       0.85      0.85      0.85       138\n",
            "\n",
            "[[54 12]\n",
            " [ 9 63]]\n"
          ]
        }
      ],
      "source": [
        "from sklearn.linear_model import LogisticRegression\n",
        "from sklearn.svm import SVC\n",
        "# 2. instantiate a logistic regression model\n",
        "logreg = LogisticRegression(random_state=1000, solver='saga',multi_class='ovr',C=2.0)\n",
        "# 3. train the model using X_train_dtm\n",
        "x=logreg.fit(X_train, y_train)\n",
        "# 4. make class predictions for X_test_dtm\n",
        "y_pred_class = logreg.predict(X_test)\n",
        "print(classification_report(y_test,y_pred_class))\n",
        "print(confusion_matrix(y_test,y_pred_class))"
      ]
    },
    {
      "cell_type": "code",
      "execution_count": null,
      "metadata": {
        "id": "If-OSbFtTuTV"
      },
      "outputs": [],
      "source": []
    },
    {
      "cell_type": "code",
      "execution_count": null,
      "metadata": {
        "id": "D5OzL5ukTuTV",
        "outputId": "845cdbd8-5f20-4939-fa75-e7757920d91a"
      },
      "outputs": [
        {
          "name": "stdout",
          "output_type": "stream",
          "text": [
            "SVC\n",
            "              precision    recall  f1-score   support\n",
            "\n",
            "           0       0.84      0.82      0.83        66\n",
            "           1       0.84      0.86      0.85        72\n",
            "\n",
            "    accuracy                           0.84       138\n",
            "   macro avg       0.84      0.84      0.84       138\n",
            "weighted avg       0.84      0.84      0.84       138\n",
            "\n",
            "[[54 12]\n",
            " [10 62]]\n"
          ]
        }
      ],
      "source": [
        "from sklearn.svm import SVC\n",
        "print(\"SVC\")\n",
        "svm = SVC(kernel='sigmoid', C=2.0, random_state=2)\n",
        "svm.fit(X_train,y_train)\n",
        "y_pred=svm.predict(X_test)\n",
        "print(classification_report(y_test,y_pred))\n",
        "print(confusion_matrix(y_test,y_pred))\n"
      ]
    },
    {
      "cell_type": "code",
      "execution_count": null,
      "metadata": {
        "id": "vKaT7H-vTuTV"
      },
      "outputs": [],
      "source": []
    },
    {
      "cell_type": "code",
      "execution_count": null,
      "metadata": {
        "id": "nMklomeMTuTV"
      },
      "outputs": [],
      "source": []
    },
    {
      "cell_type": "code",
      "execution_count": null,
      "metadata": {
        "id": "rtOI8R2pTuTV"
      },
      "outputs": [],
      "source": []
    },
    {
      "cell_type": "code",
      "execution_count": null,
      "metadata": {
        "id": "Y4nzlbb1TuTW"
      },
      "outputs": [],
      "source": []
    },
    {
      "cell_type": "code",
      "execution_count": null,
      "metadata": {
        "id": "RlSn8vchTuTW"
      },
      "outputs": [],
      "source": []
    },
    {
      "cell_type": "code",
      "execution_count": null,
      "metadata": {
        "id": "HtmqASKgTuTW"
      },
      "outputs": [],
      "source": []
    },
    {
      "cell_type": "code",
      "execution_count": null,
      "metadata": {
        "id": "HBIk7AT4TuTW"
      },
      "outputs": [],
      "source": []
    },
    {
      "cell_type": "code",
      "execution_count": null,
      "metadata": {
        "id": "8wV5C6cZTuTW"
      },
      "outputs": [],
      "source": []
    },
    {
      "cell_type": "code",
      "execution_count": null,
      "metadata": {
        "id": "xyeK69MaTuTW"
      },
      "outputs": [],
      "source": []
    },
    {
      "cell_type": "code",
      "execution_count": null,
      "metadata": {
        "id": "aiyEjhAoTuTW"
      },
      "outputs": [],
      "source": []
    },
    {
      "cell_type": "code",
      "execution_count": null,
      "metadata": {
        "id": "YAkFqesETuTX"
      },
      "outputs": [],
      "source": [
        "def nearest_on_circle(c, R, x):\n",
        "    cos_=(x2-c2)/euclidean_dist(x1,x2,c1,c2)\n",
        "    sin_=(x1-c1)/euclidean_dist(x1,x2,c1,c2)\n",
        "    #then extrpolate the center along this line to a distance equal to that of radius\n",
        "    #to obtain the nearest point\n",
        "    y1=c1+r*cos_\n",
        "    y2=c2+r*sin_\n",
        "    y=y1,y2\n",
        "    return y"
      ]
    },
    {
      "cell_type": "code",
      "execution_count": null,
      "metadata": {
        "id": "bz6r4tixTuTX"
      },
      "outputs": [],
      "source": [
        "def euclidean_dist(x1,y1,x2,y2):\n",
        "    return math.sqrt((x1-x2)**2 +(y1-y2)**2)"
      ]
    },
    {
      "cell_type": "code",
      "execution_count": null,
      "metadata": {
        "id": "3tMXFoQyTuTX"
      },
      "outputs": [],
      "source": [
        "def reflections_in_tunnel(w, h, alpha, n):\n",
        "    x=(n*w-h)/math.tan(alpha)\n",
        "    return x"
      ]
    },
    {
      "cell_type": "code",
      "execution_count": null,
      "metadata": {
        "id": "oMCW_6GjTuTX",
        "outputId": "e51b71e7-59fd-4788-a8a0-53df4388c736"
      },
      "outputs": [
        {
          "data": {
            "text/plain": [
              "0.15611995216165922"
            ]
          },
          "execution_count": 20,
          "metadata": {},
          "output_type": "execute_result"
        }
      ],
      "source": [
        "reflections_in_tunnel(2, 3, 30, 1)"
      ]
    },
    {
      "cell_type": "code",
      "execution_count": null,
      "metadata": {
        "id": "hSYAE4_RTuTX"
      },
      "outputs": [],
      "source": []
    },
    {
      "cell_type": "code",
      "execution_count": null,
      "metadata": {
        "id": "x_pA63yITuTX"
      },
      "outputs": [],
      "source": [
        "def reflection_on_circle(c_x, R, alpha):\n",
        "    #formula to find Sin Beta\n",
        "    sinB=(c_x/R)*math.sin(alpha)\n",
        "    # Now L will be\n",
        "    L=c_x+(R*sinB)/(math.cos(alpha)*(1-2*math.sin(sinB)**2)-(2*math.sin(alpha)*math.sin(sinB))*(math.sqrt(1-math.sin(sinB)**2)))\n",
        "    return L"
      ]
    },
    {
      "cell_type": "code",
      "execution_count": null,
      "metadata": {
        "id": "mIsg8qVBTuTY"
      },
      "outputs": [],
      "source": [
        "B=[[1,0],[1,0],[1,0]]\n",
        "v=[1,2,2]\n",
        "B=np.array(B)\n",
        "v=np.array(v)\n",
        "\n"
      ]
    },
    {
      "cell_type": "code",
      "execution_count": null,
      "metadata": {
        "id": "UY5vbjL-TuTY",
        "outputId": "7657bb2a-db5c-41db-80ae-e1a41d3b3eda"
      },
      "outputs": [
        {
          "data": {
            "text/plain": [
              "array([[3.42],\n",
              "       [1.55],\n",
              "       [3.65]])"
            ]
          },
          "execution_count": 65,
          "metadata": {},
          "output_type": "execute_result"
        }
      ],
      "source": [
        "import numpy as np\n",
        "x = np.array([[0, 0, 1],\n",
        "              [0, 1, 0],\n",
        "              [1, 0, 0]])\n",
        "y = ([[3.65], [1.55], [3.42]])\n",
        "x = np.array(x)\n",
        "scalars = np.linalg.solve(x, y)\n",
        "scalars"
      ]
    },
    {
      "cell_type": "code",
      "execution_count": null,
      "metadata": {
        "id": "nZMPoWMETuTY",
        "outputId": "8711c70a-a03a-49da-cafc-e749efba8dab"
      },
      "outputs": [
        {
          "data": {
            "text/plain": [
              "array([[3.42, 3.42, 2.42],\n",
              "       [1.55, 2.55, 1.55],\n",
              "       [2.65, 3.65, 3.65]])"
            ]
          },
          "execution_count": 63,
          "metadata": {},
          "output_type": "execute_result"
        }
      ],
      "source": [
        "from scipy.linalg import orth\n",
        "o=orth(x)\n",
        "v=scalars+o\n",
        "v"
      ]
    },
    {
      "cell_type": "code",
      "execution_count": null,
      "metadata": {
        "id": "l6QjC7mXTuTY"
      },
      "outputs": [],
      "source": [
        "def orthogonal_components(B, v):\n",
        "    B = np.array(B)\n",
        "    v = np.array(v)\n",
        "    v11 = np.linalg.solve(x, y)\n",
        "    from scipy.linalg import orth\n",
        "    vp=orth(x)\n",
        "    return v11,vp"
      ]
    },
    {
      "cell_type": "code",
      "execution_count": null,
      "metadata": {
        "id": "EizqdOONTuTY",
        "outputId": "e92907ea-906f-432b-9145-e3c6ded67ade"
      },
      "outputs": [
        {
          "data": {
            "text/plain": [
              "(array([[3.42],\n",
              "        [1.55],\n",
              "        [3.65]]),\n",
              " array([[ 0.,  0., -1.],\n",
              "        [ 0.,  1.,  0.],\n",
              "        [-1.,  0.,  0.]]))"
            ]
          },
          "execution_count": 71,
          "metadata": {},
          "output_type": "execute_result"
        }
      ],
      "source": [
        "orthogonal_components(x,y)"
      ]
    },
    {
      "cell_type": "code",
      "execution_count": null,
      "metadata": {
        "id": "iDgt647ZTuTY"
      },
      "outputs": [],
      "source": []
    },
    {
      "cell_type": "code",
      "execution_count": null,
      "metadata": {
        "id": "C49u6uS3TuTZ"
      },
      "outputs": [],
      "source": [
        "def marginal_x(P):\n",
        "    p=np.array(P)\n",
        "    from scipy.stats.contingency import margins\n",
        "    x, y = margins(p)\n",
        "    return x.T"
      ]
    },
    {
      "cell_type": "code",
      "execution_count": null,
      "metadata": {
        "id": "x5vH3WaOTuTc",
        "outputId": "f9185408-2a34-4515-88bb-766c74f41d71"
      },
      "outputs": [
        {
          "name": "stdout",
          "output_type": "stream",
          "text": [
            "[[0.11 0.48 0.3  0.11]]\n"
          ]
        }
      ],
      "source": [
        "import numpy as np\n",
        "\n",
        "\n",
        "p = np.array([[0.01, 0.02, 0.04, 0.04],\n",
        "                [0.03, 0.24, 0.15, 0.06],\n",
        "                [0.04, 0.10, 0.08, 0.08],\n",
        "                [0.02, 0.04, 0.03, 0.02]\n",
        "            ])\n",
        "\n",
        "\n",
        "a=marginal_x(p)\n",
        "a=np.array(a)\n",
        "print(marginal_x(p))"
      ]
    },
    {
      "cell_type": "code",
      "execution_count": null,
      "metadata": {
        "id": "x1enSfKNTuTc"
      },
      "outputs": [],
      "source": [
        "def calc_Expectation(P):\n",
        "\t\tp=np.array(P)\n",
        "\t\tsum = 0\n",
        "\t\tfrom scipy.stats.contingency import margins\n",
        "\t\tx, y = margins(p)\n",
        "\t\ta=np.array(y.T)\n",
        "\t\tfor i in range(len(a)):\n",
        "\t\t\tsum=sum+ (a[i])\n",
        "\t\te=float(sum)\n",
        "\t\treturn e\n",
        "\n"
      ]
    },
    {
      "cell_type": "code",
      "execution_count": null,
      "metadata": {
        "id": "PB96DD4uTuTd"
      },
      "outputs": [],
      "source": [
        "def calc_Expectation(P):\n",
        "\t\tp=np.array(P)\n",
        "\t\tsum = 0\n",
        "\t\tfrom scipy.stats.contingency import margins\n",
        "\t\tx, y = margins(p)\n",
        "\t\ta=np.array(y.T)\n",
        "\t\ta=np.array(y.T)\n",
        "\n"
      ]
    },
    {
      "cell_type": "code",
      "execution_count": null,
      "metadata": {
        "id": "DPpmFT_0TuTd"
      },
      "outputs": [],
      "source": []
    },
    {
      "cell_type": "code",
      "execution_count": null,
      "metadata": {
        "id": "lhuVDFa9TuTd",
        "outputId": "41fd973b-4037-4d36-b2f5-422e057c0a01"
      },
      "outputs": [
        {
          "data": {
            "text/plain": [
              "1.0"
            ]
          },
          "execution_count": 66,
          "metadata": {},
          "output_type": "execute_result"
        }
      ],
      "source": [
        "calc_Expectation(p)"
      ]
    },
    {
      "cell_type": "code",
      "execution_count": null,
      "metadata": {
        "id": "W5rcyOqRTuTd"
      },
      "outputs": [],
      "source": [
        "def calc_Expectation(P, n):\n",
        "\t\tprb = 1 / n\n",
        "\t\tsum = 0\n",
        "\t\tp=np.array(P)\n",
        "\t\tfrom scipy.stats.contingency import margins\n",
        "\t\tx, y = margins(p)\n",
        "\t\ta=np.array(x*y.T)\n"
      ]
    },
    {
      "cell_type": "code",
      "execution_count": null,
      "metadata": {
        "id": "vZSOcbqHTuTd",
        "outputId": "09615c0b-7825-4293-ea6f-1752ee7d81a6"
      },
      "outputs": [
        {
          "data": {
            "text/plain": [
              "0.1015"
            ]
          },
          "execution_count": 75,
          "metadata": {},
          "output_type": "execute_result"
        }
      ],
      "source": [
        "p = np.array([[0.01, 0.02, 0.04, 0.04],\n",
        "                [0.03, 0.24, 0.15, 0.06],\n",
        "                [0.04, 0.10, 0.08, 0.08],\n",
        "                [0.02, 0.04, 0.03, 0.02]\n",
        "            ])\n",
        "\n",
        "\n",
        "n=2\n",
        "calc_Expectation(p,n)"
      ]
    },
    {
      "cell_type": "code",
      "execution_count": null,
      "metadata": {
        "id": "ZJ0TTRROTuTd"
      },
      "outputs": [],
      "source": []
    },
    {
      "cell_type": "code",
      "execution_count": null,
      "metadata": {
        "id": "d6QG49BITuTd",
        "outputId": "b8fd109a-7187-4613-e562-b6278702f8d0"
      },
      "outputs": [
        {
          "data": {
            "text/plain": [
              "(array([[0., 0., 0., 0., 0., 0.],\n",
              "        [0., 0., 0., 0., 0., 0.],\n",
              "        [0., 0., 0., 0., 0., 0.],\n",
              "        [0., 0., 0., 0., 0., 0.],\n",
              "        [0., 0., 0., 0., 0., 0.],\n",
              "        [0., 0., 0., 0., 0., 0.]]),\n",
              " array([3, 4, 4, 5, 6, 7]))"
            ]
          },
          "execution_count": 81,
          "metadata": {},
          "output_type": "execute_result"
        }
      ],
      "source": [
        "def repeated_entries(x):\n",
        "    a=np.array(x.T)\n",
        "    N = len(x)\n",
        "    L=len(a)\n",
        "    S = np.zeros((N, L))\n",
        "    u = a\n",
        "    return S, u\n",
        "\n",
        "x=np.array([3,4,4,5,6,7])\n",
        "repeated_entries(x)"
      ]
    },
    {
      "cell_type": "code",
      "execution_count": null,
      "metadata": {
        "id": "7QBKanayTuTe"
      },
      "outputs": [],
      "source": []
    }
  ],
  "metadata": {
    "kernelspec": {
      "display_name": "Python 3 (ipykernel)",
      "language": "python",
      "name": "python3"
    },
    "language_info": {
      "codemirror_mode": {
        "name": "ipython",
        "version": 3
      },
      "file_extension": ".py",
      "mimetype": "text/x-python",
      "name": "python",
      "nbconvert_exporter": "python",
      "pygments_lexer": "ipython3",
      "version": "3.9.7"
    },
    "colab": {
      "provenance": []
    }
  },
  "nbformat": 4,
  "nbformat_minor": 0
}